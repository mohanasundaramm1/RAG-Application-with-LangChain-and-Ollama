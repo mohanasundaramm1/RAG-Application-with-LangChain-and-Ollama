{
 "cells": [
  {
   "cell_type": "code",
   "execution_count": 17,
   "metadata": {},
   "outputs": [
    {
     "name": "stderr",
     "output_type": "stream",
     "text": [
      "C:\\Users\\Admin\\AppData\\Local\\Temp\\ipykernel_2376\\3251092675.py:8: LangChainDeprecationWarning: The class `OllamaEmbeddings` was deprecated in LangChain 0.3.1 and will be removed in 1.0.0. An updated version of the class exists in the :class:`~langchain-ollama package and should be used instead. To use it run `pip install -U :class:`~langchain-ollama` and import as `from :class:`~langchain_ollama import OllamaEmbeddings``.\n",
      "  embeddings = OllamaEmbeddings()\n"
     ]
    },
    {
     "data": {
      "text/plain": [
       "\"Sure, here's one:\\n\\nWhy don't scientists trust atoms?\\nBecause they make up everything!\\n\\nI hope you found that amusing!\""
      ]
     },
     "execution_count": 17,
     "metadata": {},
     "output_type": "execute_result"
    }
   ],
   "source": [
    "import os\n",
    "from dotenv import load_dotenv\n",
    "load_dotenv()\n",
    "MODEL=\"llama2\"\n",
    "from langchain_community.llms import Ollama\n",
    "from langchain_community.embeddings import OllamaEmbeddings\n",
    "model= Ollama(model=MODEL)\n",
    "embeddings = OllamaEmbeddings()\n",
    "\n",
    "model.invoke(\"tell me a joke\")"
   ]
  },
  {
   "cell_type": "code",
   "execution_count": 20,
   "metadata": {},
   "outputs": [
    {
     "data": {
      "text/plain": [
       "\"Sure, here's one:\\n\\nWhy don't scientists trust atoms?\\nBecause they make up everything!\\n\\nI hope you find that amusing!\""
      ]
     },
     "execution_count": 20,
     "metadata": {},
     "output_type": "execute_result"
    }
   ],
   "source": [
    "from langchain_core.output_parsers import StrOutputParser\n",
    "parser = StrOutputParser()\n",
    "chain = model | parser \n",
    "chain.invoke(\"tell me a joke\")"
   ]
  },
  {
   "cell_type": "code",
   "execution_count": 27,
   "metadata": {},
   "outputs": [
    {
     "data": {
      "text/plain": [
       "[Document(metadata={'source': 'career.pdf', 'page': 0}, page_content='A Guide to \\nAdvancing Your \\nCareer with Essential \\nBusiness Skills'),\n",
       " Document(metadata={'source': 'career.pdf', 'page': 1}, page_content='Contents \\n3 The Business Skills You \\nNeed to Succeed \\n7 How to Develop Business \\nSkills \\n11 How to Advance Your \\nCareer with Business Skills \\n15 Investing in Yourself and \\nYour Career \\nIN TODAY’S RAPIDLY CHANGING ECONOMY, there’s a growing \\nneed for professionals with the knowledge and skills to contribute to key business \\ndiscussions and drive strategic decision-making. \\nAccording to the US Bureau of Labor Statistics, the number of business and \\nfnancial jobs is projected to grow 10 percent through 2026—faster than the \\naverage for all occupations. And research by LinkedIn found that individuals \\nskilled in management, leadership, and analytical reasoning are in high demand by \\ncompanies across industries. \\nNo matter your profession, enhancing your business knowledge can help you make \\nan impact on your organization and be competitive in the job market. If you’re: \\nAn engineer: You can use business knowledge to more efectively \\nlead teams and move up the ladder in your organization \\nA creative: You can learn to better communicate with \\nstakeholders about important projects \\nA healthcare provider: You can use business insights to deliver \\nmore personalized care to patients \\nA recent college graduate: You can leverage business skills to build \\nyour network and chart your career path \\nMore broadly, a foundation in business can enable you to cultivate the skills needed \\nto succeed in any industry, such as sound decision-making, complex problem-solving, \\nand time management. In addition, business skills can be profoundly useful in your \\npersonal life when creating a household budget, buying a home, or selling a car. \\nThis guide will not only outline the business skills you need to thrive, but provide a \\nblueprint for both acquiring those competencies and putting them into practice to \\nadvance your career.'),\n",
       " Document(metadata={'source': 'career.pdf', 'page': 2}, page_content='The Business \\nSkills You Need \\nto Succeed \\nBefore diving into how you can broaden your business acumen, here’s a \\nlook at fve skills you should develop to take your career to the next level.'),\n",
       " Document(metadata={'source': 'career.pdf', 'page': 3}, page_content='1. An Understanding of Economics \\nA baseline knowledge of economics can be valuable in any industry. In addition to \\nan in-depth understanding of pricing strategies \\nand demand, studying economics \\ncan provide you with a toolkit for making business decisions that give your company \\na competitive advantage in the marketplace. \\n2. Data Analysis \\nResearch by McKinsey shows that an increasing share of frms are using business \\nanalytics to generate \\ngrowth. Companies, including Microsoft, Uber, and Blue \\nApron, leverage data to improve their services and operations. \\nKnowing how to summarize datasets, recognize trends, and test hypotheses can \\ngive you an analytical framework for approaching complex business problems, \\nenabling you to make informed decisions that could beneft your frm. \\n“Using data analytics is a very efective way to have infuence in an organization,” \\nsays Harvard Business School Professor Jan Hammond, who teaches the online \\ncourse Business Analytics, in a blog post. “If you’re able to go into a meeting, and \\nother people have opinions, but you have data to support your arguments and \\nrecommendations, you’re going to be infuential. ” \\n“I knew investment in solar was a \\ngood opportunity, but the concept of \\nwillingness to sell (WTS) helped me to \\nunderstand and explain why. Because \\nof extra incentives from the city \\nprogram and group purchasing power, \\nthe electrical contractors were willing \\nto sell solar energy systems for a \\nmuch lower price than usual, thereby \\nincreasing our consumer surplus. \\nBy explaining WTS, I was able to \\nconvince the owner to move forward \\nwith this project. ” \\nNicholas Grecco, \\nCORe Participant'),\n",
       " Document(metadata={'source': 'career.pdf', 'page': 4}, page_content='3. Financial Accounting \\nAccounting skills can be benefcial to your career, even if you’re not in a numbers-\\nfocused role. While accounting can seem like an intimidating subject, it’s far more \\napproachable than you might think. \\nConcepts such as cash fow and proftability are useful for understanding your \\ncompany’s performance and potential. And knowing how to analyze fnancial \\nstatements is critical for communicating organizational performance. \\n4. Negotiation \\nWhether you’re just beginning your professional journey or operating at a senior \\nlevel, it pays to be an efective negotiator. In a recent report by the World Economic \\nForum, negotiation was identifed as one of the top skills needed to thrive in the \\nfuture workforce. \\nHoning your deal-making skills can enable you to secure value for your organization \\nat the bargaining table, but also for yourself when advocating for a higher starting \\nsalary or raise. \\nThere’s no one way to craft a successful negotiation strategy. The key, according \\nto HBS Online Professor Mike Wheeler, who teaches Negotiation Mastery, is to be \\nopen to improvisation and plan to think on your feet. \\n“However you happen to see yourself as a negotiator,\\xa0most people you deal with \\nlikely have a diferent style, at least to some degree,” Wheeler says in a blog post. \\n“To succeed, therefore, you must be agile. That means fexing yourself so that you \\ndeploy diferent skills depending on the situation and whom you’re dealing with. ” \\n“I’ve been keeping track of my \\ncompany’s annual reports, and the \\naccounting that I learned helps me \\nin understanding where the business \\nmay head in the future. I’ve also been \\ntracking a few other companies for \\ninvestment purposes, and I’ve realized \\nthat I can make more informed \\ndecisions with my improved \\nknowledge of company fnancials. ” \\nPankaj Prashant\\n, \\nCORe Participant \\nBUSINESS INSIGHT \\nExtensive preparation is essential to \\nany negotiation. But beyond an agile \\nstrategy and keen understanding of \\ndeal-making tactics, success at the \\nbargaining table requires having the \\nright demeanor and mindset. \\nLearn from Negotiation Mastery \\nProfessor Mike Wheeler about how \\nyou can emotionally prepare for your \\nnext negotiation.'),\n",
       " Document(metadata={'source': 'career.pdf', 'page': 5}, page_content='5. Management \\nStrong managerial skills are intrinsically linked to organizational performance. A \\nrecent study by Gallup found that managers account for 70 percent of variance in \\nemployee engagement, highlighting the need for companies to develop leaders who \\ncan drive team productivity and morale. \\nFor seasoned and aspiring managers alike, it’s valuable to know how to lead \\nmeetings and communicate organizational change. Equally important is being \\naware of the common missteps team leaders often make. \\nDeveloping these business skills can be a powerful way to boost your career. Next, \\nyou’ll learn about some of the ways you can acquire business skills and broaden your \\nknowledge base. \\n“I’m more aware of looking at things \\nthrough a larger lens, from a variety \\nof perspectives. I’ve always been a \\nfan of asking thoughtful, learning \\nquestions—as opposed to making \\ndeclarations—and I’m now a big fan of \\nplaying devil’s advocate. ” \\nMonica Higgins, \\nManagement Essentials \\nParticipant'),\n",
       " Document(metadata={'source': 'career.pdf', 'page': 6}, page_content='How to Develop \\nBusiness Skills \\nThere isn’t a one-size-fts-all approach to developing business skills. An \\nexperienced professional returning to work after time of will be in a much \\ndiferent situation than an entry-level job seeker. \\nWhatever path you follow will be highly dependent on your personal and \\nprofessional circumstances. Here are fve methods for gaining business skills \\nthat you should consider as you plot your career trajectory.'),\n",
       " Document(metadata={'source': 'career.pdf', 'page': 7}, page_content='1. Earn a Business \\nDegree or Certifcate \\nIf you’re interested in furthering your \\neducation, earning an MBA or business \\ncertifcate may be the right move for you. \\nAn MBA program can provide a framework \\nfor problem-solving and leadership, and \\nalso help you build a global perspective. \\nBy participating in rigorous academic \\nactivities and discussions with classmates \\nfrom various countries and professional \\nbackgrounds, you can be exposed to a \\nmultitude of viewpoints that inform how \\nyou approach key business decisions. \\nAnother option is to enroll in an online \\ncertifcate program or course, such as \\nthose ofered by Harvard Business School \\nOnline. For many full-time professionals, \\nonline programs ofer the opportunity to \\nacquire new skills in a way that’s fexible, \\nconvenient, and just as challenging as a \\ntraditional classroom environment. \\nBUSINESS INSIGHT \\n“Should I take an online class?” \\nIt’s a question many working professionals face as they look for \\nopportunities to acquire new skills or advance their career. \\nIf you’re among those wondering whether taking an online class is the \\nright ft for you, here’s what you should know before deciding to apply. \\nOnline Classes Can: \\n1 Ofer fexible scheduling and \\nadded convenience \\n2 Be just as rigorous as in-person classes \\n3 Require time management skills \\n4 Allow you to learn at your own pace \\n5 Call for you to fex your tech skills \\n6 Grow your network \\n7 Provide you with a global perspective \\n8 Vary in how they approach the learning experience \\n9 Help you advance your career'),\n",
       " Document(metadata={'source': 'career.pdf', 'page': 8}, page_content='2. Leverage Your Real-World Experience \\nEvery work experience in your career presents a chance to improve your business \\nskills. Demonstrating time management and strong communication skills in your \\ndaily tasks can help you prove you’re a capable employee and get ahead at work. \\nEven if you’re in a position that doesn’t seem quite relevant to your overall career \\ntrajectory, there are ways you can take advantage of the opportunity. Collaborating \\nwith fellow volunteers at a soup kitchen, or coordinating activities as a youth camp \\ncounselor, can be valuable, hands-on experiences that bolster your skill set and \\nequip you with the capabilities needed to succeed in business. \\n3. Read Business Articles and Blogs \\nAs disruption and innovation drive change across industries, it’s important to stay \\nup-to-date on the latest business news and trends. \\nMake it a point to regularly read publications and blogs that ofer engaging, \\ninsightful content on the state of afairs in the business world. Some examples \\ninclude the Harvard Business Review, Forbes, and Business Insider, and our own \\nBusiness Insights Blog\\nBeing informed on the latest business news can give you an in-depth understanding \\nof your company’s place in today’s market, and also broaden your knowledge of \\neconomic and fnancial terminology. \\nBUSINESS INSIGHT \\nFinancial fuency can\\xa0help you excel \\nprofessionally and make a greater \\nimpact on your company. Here are \\nfve fnancial terms and defnitions \\nyou should know. \\nAssets: Assets are items you own \\nthat can provide future beneft to your \\nbusiness, such as cash, inventory, \\nreal estate, ofce equipment, or \\naccounts receivable, which are \\npayments due to a company by its \\ncustomers. \\nCapital Gain: A capital gain is \\nan increase in the value of an asset \\nor investment above the price you \\ninitially paid for it. \\nLiabilities: The opposite of assets, \\nliabilities are what you owe other \\nparties, such as bank debt, wages, \\nand money due to suppliers, also \\nknown as accounts payable. \\nNet Worth: You can calculate net \\nworth by subtracting what you own, \\nyour assets, with what you owe, your \\nliabilities. \\nValuation: Valuation is the process \\nof determining the current worth of an \\nasset, company, or liability.'),\n",
       " Document(metadata={'source': 'career.pdf', 'page': 9}, page_content='4. Tap Into Your Network \\nAccording to a survey by LinkedIn, nearly 80 percent of professionals consider \\nnetworking to be vital to career success. It’s just as important when developing your \\nbusiness skills. \\nIf you’re aiming to pick up new skills in subjects like business analytics or fnancial \\naccounting, evaluate your network and consider who might be able to ofer advice \\nand guidance on how to grow in those areas. \\nIn addition to tapping into your larger professional network, identify a mentor at \\nyour organization whom you can talk to about your career goals and objectives. \\nResearch by the Association for Talent Development shows that participating in a \\nmentoring relationship can lead to greater professional development and a deeper \\nunderstanding of organizational culture. \\n5. Seek Feedback \\nProfessional development is a process. As you hone your business skills, seek out \\nregular, honest feedback from your managers and colleagues so you can identify \\nyour strengths and weaknesses. \\nAccording to research by Gallup, team members who receive weekly, rather than \\nannual, feedback from their managers are three times more likely to feel motivated to do \\noutstanding work, and over two times more likely to be engaged at their organization. \\nPeer feedback—even if it’s negative—can help you gauge your workplace performance \\nand determine which areas you need to improve. \\nNo matter how you decide to develop business knowledge, the skills you acquire along \\nthe way can make you a better decision-maker and team player. But how can these skills \\nenable you to take your career to the next level? That’s the next topic. \\n“People come with diferent \\nperspectives to a subject. Every day, \\nthere is something new to learn. \\nThat alone lifts my spirits. I’m \\nchallenged. Growth, impact, and \\ncontinuous learning have been major \\ncharacteristics of the HBS Online \\nCommunity. For me, Community \\nmeans sharing and collaboration. ” \\nDavid Lanre Messan\\nDisruptive Strategy Participant; \\nHBS Online Community \\nOrganizer, Lagos Chapter'),\n",
       " Document(metadata={'source': 'career.pdf', 'page': 10}, page_content='How to Advance \\nYour Career with \\nBusiness Skills \\nNow that you have an understanding of how and why you should develop \\nbusiness acumen, it’s important to determine how you can put that knowledge \\ninto practice. Here, you’ll learn about how you can propel your career by \\ndeepening your emotional intelligence, making a detailed plan, and bolstering \\nyour resume, among several other key action steps.'),\n",
       " Document(metadata={'source': 'career.pdf', 'page': 11}, page_content='1. Develop Emotional Intelligence \\nDeveloping emotional intelligence is critical to advancing your career. Research by the \\nWorld Economic Forum showsthat emotional intelligence is the strongest predictor of \\nworkplace success, and it’s an ability found among 90 percent of top performers. \\nIncreasing your self-awareness is a key part of cultivating this important business skill. \\nIn addition to evaluating your strengths and weaknesses, seek out colleagues and \\nmanagers who can gauge your efectiveness as a team player and comment on how \\nyou’re perceived within the company. \\nBeing able to understand and manage your own emotions, as well as infuence others’, \\ncan lay a stable foundation upon which you can hone other skills. Make it a habit to \\nregularly deliver honest feedback, so you can forge closer working relationships with \\npeers and maintain an open dialogue about individual and organizational performance. \\n2. Make a Plan \\nAdvancing your career requires having a keen sense of your professional goals—both \\nfor the short- and long-term. \\nTake the time to map out your career ambitions and determine your “from/to. ” \\nAs described in the Harvard Business Review, your “from/to” is comprised of two \\nstatements: One describing where you are today and the other focusing on your next \\nbig—but not ultimate—destination. \\nPerhaps you’re a healthcare provider with a great deal of clinical expertise, but want \\nto move up at your company by developing the soft skills needed to become a more \\nefective people manager. With your desired career trajectory in mind, you can identify \\nthe business skills you need to cultivate and leverage now to reach the next phase of \\nyour professional journey. \\nBUSINESS INSIGHT \\nIt’s important to be specifc when \\ndelivering feedback. In the online \\ncourse Leadership Principles, Harvard \\nBusiness School Professors Joshua \\nMargolis and Anthony Mayo outline \\na process for how you can deliver \\nfeedback that gets to the root cause \\nof an issue. When delivering feedback \\nto employees, they advise: \\nBe direct and speak to the issue \\nyou want to coach them on \\n\\x01Identify a specifc behavior, \\nra\\nther than speak in generalities \\n\\x01State the impact of tha\\nt \\nproblematic behavior and \\nconnect it to the consequences \\n\\x01Share specifcs around who was \\nafected and the impact the \\nrecipient’s actions had not just \\non the organization but on their \\nown career \\n\\x01The more clear and specifc you are, \\nthe less room there is for the feedback \\nrecipient to misinterpret your advice.'),\n",
       " Document(metadata={'source': 'career.pdf', 'page': 12}, page_content='3. Bolster Your Resume \\nWhether you’re transitioning from college \\nto your career, or aspire to move up at your \\norganization, a strong resume is essential. \\nAccording to research by Ladders, most \\nemployers spend about six seconds \\nreviewing a resume, underscoring how \\nimportant it is for you to make sure yours \\nstands out. \\nFocus on highlighting your qualities and \\nskills when describing your background, \\nand note how you acquired those \\ncompetencies, such as by taking an online \\ncourse or volunteering for a local nonproft. \\nBy maintaining a well-written, up-to-date \\nresume, you can ensure you’re ready for \\nany opportunities that come your way. \\nJOB SEEKER TIP \\nHow to Answer “Tell Me About Yourself” in an Interview \\nOnce your resume has caught a recruiter’s eye, it’s time to prepare for a job \\ninterview. Many hiring managers kick of the conversation with a simple ask: \\n“Tell me about yourself. ” This prompt roughly translates to, “What’s your \\nstory?” and your response can set the tone for the entire interview. Here’s \\nhow you can make your story a best seller: \\n\\x01Consider Your Audience \\nResearch a company in advance to assess their culture and \\ndetermine which details are most relevant to share. \\n\\x01Create an Outline \\nAvoid losing your audience by creating an easy-to-follow \\nstoryline. Focus on having a beginning, middle, and end. \\nConsider using the following template to get started. \\nPRESENT -\\xa0Where are you right now? “I’m currently a Business Analyst for… ” \\nPAST - What brought you to this point? “I previously worked as… ” \\nFUTURE - Where are you trying to go? “Now that I have experience in… ” \\n\\x01Practice, Practice, Practice \\nThe goal is not to memorize a script, but rather to familiarize \\nyourself with your own highlight reel. Play with the order of \\nthe template depending on the biggest selling points of your \\nexperience. People typically remember the frst and last thing \\nthey hear, so prioritize accordingly and\\xa0keep it concise. A 30- to \\n60-second response is best.'),\n",
       " Document(metadata={'source': 'career.pdf', 'page': 13}, page_content='4. Continue to Grow Your Network \\nAs previously noted, networking is an indispensable skill for all professionals, \\nregardless of industry. In a recent survey \\nby LinkedIn it was found that 85 percent \\nof jobs are flled via networking. A robust professional network can not only \\naccelerate your career, but provide you with a broader knowledge base and greater \\ninnovation potential. Through making a concerted efort to grow your network and \\nform meaningful connections, you may be exposed to career paths and interests \\nyou had never considered. \\n5. Take Initiative \\nBeing a motivated self-starter can pay dividends for your career. According to \\nresearch by Indeed, initiative is one of the top attributes of high performers. If you \\nwant to impress your boss and peers, opt to\\xa0lead a critical team meeting\\xa0or help your \\ncompany close an important deal using your knowledge of\\xa0negotiation tactics. \\n6. Advocate for Yourself \\nAs you seek to advance your career and uncover new opportunities, strive to be your \\nown best advocate. If you’re trying to get a raise, be prepared to point out contributions \\nyou’ve made in your workplace and demonstrate the return on investment. \\nLet your manager know about any educational or career training opportunities \\nyou’ve pursued. It will show you’re motivated and committed to your professional \\ndevelopment. \\nCareer advancement comes in many forms. By taking the action steps outlined in this \\nsection, you can become a more efective collaborator, skillfully network, and capitalize \\non opportunities that allow you to reach the next stage of your professional life. \\n“Throughout my career, I’ve tried to \\navoid being passive. I’ve continued \\nto learn, try new job roles, or take \\non additional responsibilities to \\nmake myself more visible. Very early \\nin life, I realized that growing and \\nevolving is not fnite, it’s perpetual. \\nThere’s always room to evolve and \\nadvance. Up until now, I was a \\ntechnically profcient engineer with \\nminimal business skills. I signed up \\nfor CORe with the goal of expanding \\nmy understanding of business \\nfundamentals and becoming that \\nwell-rounded engineer my \\nboss wanted. ” \\nIsha Khambra, \\nCORe Participant'),\n",
       " Document(metadata={'source': 'career.pdf', 'page': 14}, page_content='Yourself and \\nYour Career \\nInvesting in \\nAs you’ve learned throughout this guide, \\ndeveloping essential business skills \\ncan beneft you both professionally and \\npersonally. With a keen understanding of \\nbusiness analytics, economics, fnancial \\naccounting, \\nand more, you can become a \\nmore efective decision-maker and reach \\nthe next stage of your career with greater \\nconfdence and drive. \\nNow that you understand the importance \\nof \\nbusiness skills, how will you build yours? \\nIn a recent survey by City Square Associates, nearly 1,000 learners shared the career growth they \\nachievedas a result of completing anHBS Online course. Among the highlights: \\n89% \\nacquired new \\nbusiness skills \\n93% \\nfeel better about \\nthemselves \\n90% \\nare more \\nconfdent at work \\n77% \\ngained greater \\nclarity about \\ntheir \\nprofessional future \\nIf you want to accelerate your \\ncareer by mastering business fundamentals, explore our online\\xa0CORe program and \\ndiscover how you can develop the skills and knowledge needed to contribute to business discussions and drive strategic \\ndecision-making.'),\n",
       " Document(metadata={'source': 'career.pdf', 'page': 15}, page_content='To learn more about what HBS Online \\ncan do for you, visit online.hbs.edu.')]"
      ]
     },
     "execution_count": 27,
     "metadata": {},
     "output_type": "execute_result"
    }
   ],
   "source": [
    "from langchain_community.document_loaders import PyPDFLoader\n",
    "\n",
    "loader = PyPDFLoader(\"career.pdf\")\n",
    "pages = loader.load_and_split()\n",
    "pages"
   ]
  },
  {
   "cell_type": "code",
   "execution_count": 28,
   "metadata": {},
   "outputs": [
    {
     "name": "stdout",
     "output_type": "stream",
     "text": [
      "\n",
      "Answer the question based on the context below. If you can't \n",
      "answer the question, reply \" I don't know\".\n",
      "\n",
      "Context: Here is some context\n",
      "\n",
      "Question: Here is a question\n",
      "\n"
     ]
    }
   ],
   "source": [
    "from langchain.prompts import PromptTemplate\n",
    "template=\"\"\"\n",
    "Answer the question based on the context below. If you can't \n",
    "answer the question, reply \" I don't know\".\n",
    "\n",
    "Context: {context}\n",
    "\n",
    "Question: {question}\n",
    "\"\"\" \n",
    "prompt = PromptTemplate.from_template(template)\n",
    "print(prompt.format(context=\"Here is some context\", question=\"Here is a question\"))\n"
   ]
  },
  {
   "cell_type": "code",
   "execution_count": 29,
   "metadata": {},
   "outputs": [],
   "source": [
    "chain = prompt | model | parser "
   ]
  },
  {
   "cell_type": "code",
   "execution_count": 30,
   "metadata": {},
   "outputs": [
    {
     "data": {
      "text/plain": [
       "{'properties': {'context': {'title': 'Context', 'type': 'string'},\n",
       "  'question': {'title': 'Question', 'type': 'string'}},\n",
       " 'required': ['context', 'question'],\n",
       " 'title': 'PromptInput',\n",
       " 'type': 'object'}"
      ]
     },
     "execution_count": 30,
     "metadata": {},
     "output_type": "execute_result"
    }
   ],
   "source": [
    "chain.input_schema.schema()"
   ]
  },
  {
   "cell_type": "code",
   "execution_count": 31,
   "metadata": {},
   "outputs": [
    {
     "data": {
      "text/plain": [
       "' Ah, a simple question, yet one that is so crucial to our daily lives, Master Wayne. *adjusts monocle* My apologies, I mean Master Bruce Wayne. Your name, sir, is... *peers intensely* Bruce Wayne!'"
      ]
     },
     "execution_count": 31,
     "metadata": {},
     "output_type": "execute_result"
    }
   ],
   "source": [
    "chain.invoke(\n",
    "    {\n",
    "        \"context\": \"Im bruce wayne , and you are alfred . you can call me master wayne or master bruce wayne \",\n",
    "        \"question\": \"What's my name?\"\n",
    "    }\n",
    ")"
   ]
  },
  {
   "cell_type": "code",
   "execution_count": 32,
   "metadata": {},
   "outputs": [],
   "source": [
    "from langchain_community.vectorstores import DocArrayInMemorySearch\n",
    "\n",
    "vectorstore = DocArrayInMemorySearch.from_documents(\n",
    "    pages, \n",
    "    embedding=embeddings\n",
    ")"
   ]
  },
  {
   "cell_type": "code",
   "execution_count": 35,
   "metadata": {},
   "outputs": [
    {
     "data": {
      "text/plain": [
       "[Document(metadata={'source': 'career.pdf', 'page': 3}, page_content='1. An Understanding of Economics \\nA baseline knowledge of economics can be valuable in any industry. In addition to \\nan in-depth understanding of pricing strategies \\nand demand, studying economics \\ncan provide you with a toolkit for making business decisions that give your company \\na competitive advantage in the marketplace. \\n2. Data Analysis \\nResearch by McKinsey shows that an increasing share of frms are using business \\nanalytics to generate \\ngrowth. Companies, including Microsoft, Uber, and Blue \\nApron, leverage data to improve their services and operations. \\nKnowing how to summarize datasets, recognize trends, and test hypotheses can \\ngive you an analytical framework for approaching complex business problems, \\nenabling you to make informed decisions that could beneft your frm. \\n“Using data analytics is a very efective way to have infuence in an organization,” \\nsays Harvard Business School Professor Jan Hammond, who teaches the online \\ncourse Business Analytics, in a blog post. “If you’re able to go into a meeting, and \\nother people have opinions, but you have data to support your arguments and \\nrecommendations, you’re going to be infuential. ” \\n“I knew investment in solar was a \\ngood opportunity, but the concept of \\nwillingness to sell (WTS) helped me to \\nunderstand and explain why. Because \\nof extra incentives from the city \\nprogram and group purchasing power, \\nthe electrical contractors were willing \\nto sell solar energy systems for a \\nmuch lower price than usual, thereby \\nincreasing our consumer surplus. \\nBy explaining WTS, I was able to \\nconvince the owner to move forward \\nwith this project. ” \\nNicholas Grecco, \\nCORe Participant'),\n",
       " Document(metadata={'source': 'career.pdf', 'page': 0}, page_content='A Guide to \\nAdvancing Your \\nCareer with Essential \\nBusiness Skills'),\n",
       " Document(metadata={'source': 'career.pdf', 'page': 5}, page_content='5. Management \\nStrong managerial skills are intrinsically linked to organizational performance. A \\nrecent study by Gallup found that managers account for 70 percent of variance in \\nemployee engagement, highlighting the need for companies to develop leaders who \\ncan drive team productivity and morale. \\nFor seasoned and aspiring managers alike, it’s valuable to know how to lead \\nmeetings and communicate organizational change. Equally important is being \\naware of the common missteps team leaders often make. \\nDeveloping these business skills can be a powerful way to boost your career. Next, \\nyou’ll learn about some of the ways you can acquire business skills and broaden your \\nknowledge base. \\n“I’m more aware of looking at things \\nthrough a larger lens, from a variety \\nof perspectives. I’ve always been a \\nfan of asking thoughtful, learning \\nquestions—as opposed to making \\ndeclarations—and I’m now a big fan of \\nplaying devil’s advocate. ” \\nMonica Higgins, \\nManagement Essentials \\nParticipant'),\n",
       " Document(metadata={'source': 'career.pdf', 'page': 13}, page_content='4. Continue to Grow Your Network \\nAs previously noted, networking is an indispensable skill for all professionals, \\nregardless of industry. In a recent survey \\nby LinkedIn it was found that 85 percent \\nof jobs are flled via networking. A robust professional network can not only \\naccelerate your career, but provide you with a broader knowledge base and greater \\ninnovation potential. Through making a concerted efort to grow your network and \\nform meaningful connections, you may be exposed to career paths and interests \\nyou had never considered. \\n5. Take Initiative \\nBeing a motivated self-starter can pay dividends for your career. According to \\nresearch by Indeed, initiative is one of the top attributes of high performers. If you \\nwant to impress your boss and peers, opt to\\xa0lead a critical team meeting\\xa0or help your \\ncompany close an important deal using your knowledge of\\xa0negotiation tactics. \\n6. Advocate for Yourself \\nAs you seek to advance your career and uncover new opportunities, strive to be your \\nown best advocate. If you’re trying to get a raise, be prepared to point out contributions \\nyou’ve made in your workplace and demonstrate the return on investment. \\nLet your manager know about any educational or career training opportunities \\nyou’ve pursued. It will show you’re motivated and committed to your professional \\ndevelopment. \\nCareer advancement comes in many forms. By taking the action steps outlined in this \\nsection, you can become a more efective collaborator, skillfully network, and capitalize \\non opportunities that allow you to reach the next stage of your professional life. \\n“Throughout my career, I’ve tried to \\navoid being passive. I’ve continued \\nto learn, try new job roles, or take \\non additional responsibilities to \\nmake myself more visible. Very early \\nin life, I realized that growing and \\nevolving is not fnite, it’s perpetual. \\nThere’s always room to evolve and \\nadvance. Up until now, I was a \\ntechnically profcient engineer with \\nminimal business skills. I signed up \\nfor CORe with the goal of expanding \\nmy understanding of business \\nfundamentals and becoming that \\nwell-rounded engineer my \\nboss wanted. ” \\nIsha Khambra, \\nCORe Participant')]"
      ]
     },
     "execution_count": 35,
     "metadata": {},
     "output_type": "execute_result"
    }
   ],
   "source": [
    "retriever= vectorstore.as_retriever()\n",
    "retriever.invoke(\"Management\")"
   ]
  },
  {
   "cell_type": "code",
   "execution_count": 37,
   "metadata": {},
   "outputs": [
    {
     "data": {
      "text/plain": [
       "' Based on the context provided, it seems that management is intrinsically linked to organizational performance and can drive team productivity and morale. According to a recent study by Gallup, managers account for 70 percent of variance in employee engagement, highlighting the need for companies to develop leaders who can drive team productivity and morale. Additionally, research by the Association for Talent Development shows that participating in a mentoring relationship can lead to greater professional development and a deeper understanding of organizational culture. Overall, developing strong managerial skills is important for career advancement and organizational success.'"
      ]
     },
     "execution_count": 37,
     "metadata": {},
     "output_type": "execute_result"
    }
   ],
   "source": [
    "from operator import itemgetter\n",
    "chain =(\n",
    "    {\"context\": itemgetter(\"question\") | retriever, \"question\":itemgetter(\"question\")}\n",
    "    | prompt \n",
    "    | model \n",
    "    | parser \n",
    ")\n",
    "\n",
    "chain.invoke({\n",
    "    \"question\": \"Why is management important?\"\n",
    "})"
   ]
  },
  {
   "cell_type": "code",
   "execution_count": 38,
   "metadata": {},
   "outputs": [
    {
     "name": "stdout",
     "output_type": "stream",
     "text": [
      "Question: How to Advance Your Career with Business Skills?\n",
      "Answer: Based on the provided context, the answer to the question \"How to Advance Your Career with Business Skills?\" is:\n",
      "\n",
      "Developing essential business skills can help you succeed in your career. Here are five ways to advance your career with business skills:\n",
      "\n",
      "1. Networking: Tap into your professional network and identify a mentor at your organization who can offer advice and guidance on how to grow in your chosen area of expertise.\n",
      "2. Seek Feedback: Regularly seek feedback from your managers and colleagues to identify your strengths and weaknesses, and work on improving your skills.\n",
      "3. Develop Essential Skills: Identify the essential business skills you need to develop, such as business analytics or financial accounting, and work on acquiring them through various means, such as online courses, workshops, or professional certifications.\n",
      "4. Collaborate with Others: Share your knowledge and collaborate with others in the HBS Online Community, which offers a platform for continuous learning and growth.\n",
      "5. Take Courses: Enroll in online courses offered by HBS Online to gain new skills and stay up-to-date with the latest industry trends and best practices.\n",
      "\n",
      "By following these tips, you can broaden your business acumen, enhance your professional development, and take your career to the next level.\n",
      "\n",
      "Question: Why Read Business Articles and Blogs?\n",
      "Answer:  Based on the context provided, the answer to the question \"Why read business articles and blogs?\" is:\n",
      "\n",
      "To gain new knowledge and insights: According to the document, reading business articles and blogs can help you \"stay current with industry trends and news\" and \"gain new knowledge and insights.\"\n",
      "\n",
      "To improve your decision-making skills: The document states that \"the skills you acquire along the way can make you a better decision-maker and team player.\" By reading business articles and blogs, you can gain a deeper understanding of various industries and topics, which can help you make more informed decisions in your career.\n",
      "\n",
      "To enhance your professional development: The document notes that \"participating in a mentoring relationship can lead to greater professional development and a deeper understanding of organizational culture.\" Reading business articles and blogs can also help you develop your critical thinking and analytical skills, which are essential for professional growth.\n",
      "\n",
      "Overall, reading business articles and blogs can provide numerous benefits for your career development, including staying up-to-date with industry trends, improving your decision-making skills, and enhancing your professional development.\n",
      "\n",
      "Question: why Your Resume is important?\n",
      "Answer:  Based on the context provided in the question, the answer to \"Why is your resume important?\" can be inferred as:\n",
      "\n",
      "A resume is important because it serves as a representation of an individual's professional experiences, skills, and achievements. It plays a crucial role in helping professionals advance their careers by showcasing their strengths and qualifications to potential employers or clients. Without a resume, it can be challenging for individuals to demonstrate their value and qualifications to others, which can limit their career growth opportunities.\n",
      "\n"
     ]
    }
   ],
   "source": [
    "questions = [\n",
    "    \"How to Advance Your Career with Business Skills?\",\n",
    "    \"Why Read Business Articles and Blogs?\",\n",
    "    \"why Your Resume is important?\",\n",
    "]\n",
    "for question in questions:\n",
    "    print(f\"Question: {question}\")\n",
    "    print(f\"Answer: {chain.invoke({'question': question})}\")\n",
    "    print()"
   ]
  },
  {
   "cell_type": "code",
   "execution_count": null,
   "metadata": {},
   "outputs": [],
   "source": []
  }
 ],
 "metadata": {
  "kernelspec": {
   "display_name": ".venv",
   "language": "python",
   "name": "python3"
  },
  "language_info": {
   "codemirror_mode": {
    "name": "ipython",
    "version": 3
   },
   "file_extension": ".py",
   "mimetype": "text/x-python",
   "name": "python",
   "nbconvert_exporter": "python",
   "pygments_lexer": "ipython3",
   "version": "3.12.4"
  }
 },
 "nbformat": 4,
 "nbformat_minor": 2
}
